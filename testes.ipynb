{
 "cells": [
  {
   "cell_type": "code",
   "execution_count": 4,
   "metadata": {},
   "outputs": [
    {
     "ename": "TypeError",
     "evalue": "<module '__main__'> is a built-in module",
     "output_type": "error",
     "traceback": [
      "\u001b[0;31m---------------------------------------------------------------------------\u001b[0m",
      "\u001b[0;31mTypeError\u001b[0m                                 Traceback (most recent call last)",
      "\u001b[1;32mUntitled-1.ipynb Cell 1'\u001b[0m in \u001b[0;36m<cell line: 40>\u001b[0;34m()\u001b[0m\n\u001b[1;32m     <a href='vscode-notebook-cell:Untitled-1.ipynb?jupyter-notebook#ch0000006untitled?line=36'>37</a>\u001b[0m     t\u001b[39m.\u001b[39mlexer\u001b[39m.\u001b[39mskip(\u001b[39m1\u001b[39m)\n\u001b[1;32m     <a href='vscode-notebook-cell:Untitled-1.ipynb?jupyter-notebook#ch0000006untitled?line=38'>39</a>\u001b[0m \u001b[39m# Build the lexer object\u001b[39;00m\n\u001b[0;32m---> <a href='vscode-notebook-cell:Untitled-1.ipynb?jupyter-notebook#ch0000006untitled?line=39'>40</a>\u001b[0m lexer \u001b[39m=\u001b[39m lex()\n\u001b[1;32m     <a href='vscode-notebook-cell:Untitled-1.ipynb?jupyter-notebook#ch0000006untitled?line=41'>42</a>\u001b[0m \u001b[39m# --- Parser\u001b[39;00m\n\u001b[1;32m     <a href='vscode-notebook-cell:Untitled-1.ipynb?jupyter-notebook#ch0000006untitled?line=42'>43</a>\u001b[0m \n\u001b[1;32m     <a href='vscode-notebook-cell:Untitled-1.ipynb?jupyter-notebook#ch0000006untitled?line=43'>44</a>\u001b[0m \u001b[39m# Write functions for each grammar rule which is\u001b[39;00m\n\u001b[1;32m     <a href='vscode-notebook-cell:Untitled-1.ipynb?jupyter-notebook#ch0000006untitled?line=44'>45</a>\u001b[0m \u001b[39m# specified in the docstring.\u001b[39;00m\n\u001b[1;32m     <a href='vscode-notebook-cell:Untitled-1.ipynb?jupyter-notebook#ch0000006untitled?line=45'>46</a>\u001b[0m \u001b[39mdef\u001b[39;00m \u001b[39mp_expression\u001b[39m(p):\n",
      "File \u001b[0;32m~/anaconda3/envs/redes_complexas/lib/python3.10/site-packages/ply/lex.py:908\u001b[0m, in \u001b[0;36mlex\u001b[0;34m(module, object, debug, optimize, lextab, reflags, nowarn, outputdir, debuglog, errorlog)\u001b[0m\n\u001b[1;32m    <a href='file:///home/robson/anaconda3/envs/redes_complexas/lib/python3.10/site-packages/ply/lex.py?line=905'>906</a>\u001b[0m linfo\u001b[39m.\u001b[39mget_all()\n\u001b[1;32m    <a href='file:///home/robson/anaconda3/envs/redes_complexas/lib/python3.10/site-packages/ply/lex.py?line=906'>907</a>\u001b[0m \u001b[39mif\u001b[39;00m \u001b[39mnot\u001b[39;00m optimize:\n\u001b[0;32m--> <a href='file:///home/robson/anaconda3/envs/redes_complexas/lib/python3.10/site-packages/ply/lex.py?line=907'>908</a>\u001b[0m     \u001b[39mif\u001b[39;00m linfo\u001b[39m.\u001b[39;49mvalidate_all():\n\u001b[1;32m    <a href='file:///home/robson/anaconda3/envs/redes_complexas/lib/python3.10/site-packages/ply/lex.py?line=908'>909</a>\u001b[0m         \u001b[39mraise\u001b[39;00m \u001b[39mSyntaxError\u001b[39;00m(\u001b[39m\"\u001b[39m\u001b[39mCan\u001b[39m\u001b[39m'\u001b[39m\u001b[39mt build lexer\u001b[39m\u001b[39m\"\u001b[39m)\n\u001b[1;32m    <a href='file:///home/robson/anaconda3/envs/redes_complexas/lib/python3.10/site-packages/ply/lex.py?line=910'>911</a>\u001b[0m \u001b[39mif\u001b[39;00m optimize \u001b[39mand\u001b[39;00m lextab:\n",
      "File \u001b[0;32m~/anaconda3/envs/redes_complexas/lib/python3.10/site-packages/ply/lex.py:579\u001b[0m, in \u001b[0;36mLexerReflect.validate_all\u001b[0;34m(self)\u001b[0m\n\u001b[1;32m    <a href='file:///home/robson/anaconda3/envs/redes_complexas/lib/python3.10/site-packages/ply/lex.py?line=576'>577</a>\u001b[0m \u001b[39mself\u001b[39m\u001b[39m.\u001b[39mvalidate_tokens()\n\u001b[1;32m    <a href='file:///home/robson/anaconda3/envs/redes_complexas/lib/python3.10/site-packages/ply/lex.py?line=577'>578</a>\u001b[0m \u001b[39mself\u001b[39m\u001b[39m.\u001b[39mvalidate_literals()\n\u001b[0;32m--> <a href='file:///home/robson/anaconda3/envs/redes_complexas/lib/python3.10/site-packages/ply/lex.py?line=578'>579</a>\u001b[0m \u001b[39mself\u001b[39;49m\u001b[39m.\u001b[39;49mvalidate_rules()\n\u001b[1;32m    <a href='file:///home/robson/anaconda3/envs/redes_complexas/lib/python3.10/site-packages/ply/lex.py?line=579'>580</a>\u001b[0m \u001b[39mreturn\u001b[39;00m \u001b[39mself\u001b[39m\u001b[39m.\u001b[39merror\n",
      "File \u001b[0;32m~/anaconda3/envs/redes_complexas/lib/python3.10/site-packages/ply/lex.py:821\u001b[0m, in \u001b[0;36mLexerReflect.validate_rules\u001b[0;34m(self)\u001b[0m\n\u001b[1;32m    <a href='file:///home/robson/anaconda3/envs/redes_complexas/lib/python3.10/site-packages/ply/lex.py?line=817'>818</a>\u001b[0m             \u001b[39mself\u001b[39m\u001b[39m.\u001b[39merror \u001b[39m=\u001b[39m \u001b[39mTrue\u001b[39;00m\n\u001b[1;32m    <a href='file:///home/robson/anaconda3/envs/redes_complexas/lib/python3.10/site-packages/ply/lex.py?line=819'>820</a>\u001b[0m \u001b[39mfor\u001b[39;00m module \u001b[39min\u001b[39;00m \u001b[39mself\u001b[39m\u001b[39m.\u001b[39mmodules:\n\u001b[0;32m--> <a href='file:///home/robson/anaconda3/envs/redes_complexas/lib/python3.10/site-packages/ply/lex.py?line=820'>821</a>\u001b[0m     \u001b[39mself\u001b[39;49m\u001b[39m.\u001b[39;49mvalidate_module(module)\n",
      "File \u001b[0;32m~/anaconda3/envs/redes_complexas/lib/python3.10/site-packages/ply/lex.py:833\u001b[0m, in \u001b[0;36mLexerReflect.validate_module\u001b[0;34m(self, module)\u001b[0m\n\u001b[1;32m    <a href='file:///home/robson/anaconda3/envs/redes_complexas/lib/python3.10/site-packages/ply/lex.py?line=830'>831</a>\u001b[0m \u001b[39mdef\u001b[39;00m \u001b[39mvalidate_module\u001b[39m(\u001b[39mself\u001b[39m, module):\n\u001b[1;32m    <a href='file:///home/robson/anaconda3/envs/redes_complexas/lib/python3.10/site-packages/ply/lex.py?line=831'>832</a>\u001b[0m     \u001b[39mtry\u001b[39;00m:\n\u001b[0;32m--> <a href='file:///home/robson/anaconda3/envs/redes_complexas/lib/python3.10/site-packages/ply/lex.py?line=832'>833</a>\u001b[0m         lines, linen \u001b[39m=\u001b[39m inspect\u001b[39m.\u001b[39;49mgetsourcelines(module)\n\u001b[1;32m    <a href='file:///home/robson/anaconda3/envs/redes_complexas/lib/python3.10/site-packages/ply/lex.py?line=833'>834</a>\u001b[0m     \u001b[39mexcept\u001b[39;00m \u001b[39mIOError\u001b[39;00m:\n\u001b[1;32m    <a href='file:///home/robson/anaconda3/envs/redes_complexas/lib/python3.10/site-packages/ply/lex.py?line=834'>835</a>\u001b[0m         \u001b[39mreturn\u001b[39;00m\n",
      "File \u001b[0;32m~/anaconda3/envs/redes_complexas/lib/python3.10/inspect.py:1129\u001b[0m, in \u001b[0;36mgetsourcelines\u001b[0;34m(object)\u001b[0m\n\u001b[1;32m   <a href='file:///home/robson/anaconda3/envs/redes_complexas/lib/python3.10/inspect.py?line=1120'>1121</a>\u001b[0m \u001b[39m\"\"\"Return a list of source lines and starting line number for an object.\u001b[39;00m\n\u001b[1;32m   <a href='file:///home/robson/anaconda3/envs/redes_complexas/lib/python3.10/inspect.py?line=1121'>1122</a>\u001b[0m \n\u001b[1;32m   <a href='file:///home/robson/anaconda3/envs/redes_complexas/lib/python3.10/inspect.py?line=1122'>1123</a>\u001b[0m \u001b[39mThe argument may be a module, class, method, function, traceback, frame,\u001b[39;00m\n\u001b[0;32m   (...)\u001b[0m\n\u001b[1;32m   <a href='file:///home/robson/anaconda3/envs/redes_complexas/lib/python3.10/inspect.py?line=1125'>1126</a>\u001b[0m \u001b[39moriginal source file the first line of code was found.  An OSError is\u001b[39;00m\n\u001b[1;32m   <a href='file:///home/robson/anaconda3/envs/redes_complexas/lib/python3.10/inspect.py?line=1126'>1127</a>\u001b[0m \u001b[39mraised if the source code cannot be retrieved.\"\"\"\u001b[39;00m\n\u001b[1;32m   <a href='file:///home/robson/anaconda3/envs/redes_complexas/lib/python3.10/inspect.py?line=1127'>1128</a>\u001b[0m \u001b[39mobject\u001b[39m \u001b[39m=\u001b[39m unwrap(\u001b[39mobject\u001b[39m)\n\u001b[0;32m-> <a href='file:///home/robson/anaconda3/envs/redes_complexas/lib/python3.10/inspect.py?line=1128'>1129</a>\u001b[0m lines, lnum \u001b[39m=\u001b[39m findsource(\u001b[39mobject\u001b[39;49m)\n\u001b[1;32m   <a href='file:///home/robson/anaconda3/envs/redes_complexas/lib/python3.10/inspect.py?line=1130'>1131</a>\u001b[0m \u001b[39mif\u001b[39;00m istraceback(\u001b[39mobject\u001b[39m):\n\u001b[1;32m   <a href='file:///home/robson/anaconda3/envs/redes_complexas/lib/python3.10/inspect.py?line=1131'>1132</a>\u001b[0m     \u001b[39mobject\u001b[39m \u001b[39m=\u001b[39m \u001b[39mobject\u001b[39m\u001b[39m.\u001b[39mtb_frame\n",
      "File \u001b[0;32m~/anaconda3/envs/redes_complexas/lib/python3.10/inspect.py:940\u001b[0m, in \u001b[0;36mfindsource\u001b[0;34m(object)\u001b[0m\n\u001b[1;32m    <a href='file:///home/robson/anaconda3/envs/redes_complexas/lib/python3.10/inspect.py?line=931'>932</a>\u001b[0m \u001b[39mdef\u001b[39;00m \u001b[39mfindsource\u001b[39m(\u001b[39mobject\u001b[39m):\n\u001b[1;32m    <a href='file:///home/robson/anaconda3/envs/redes_complexas/lib/python3.10/inspect.py?line=932'>933</a>\u001b[0m     \u001b[39m\"\"\"Return the entire source file and starting line number for an object.\u001b[39;00m\n\u001b[1;32m    <a href='file:///home/robson/anaconda3/envs/redes_complexas/lib/python3.10/inspect.py?line=933'>934</a>\u001b[0m \n\u001b[1;32m    <a href='file:///home/robson/anaconda3/envs/redes_complexas/lib/python3.10/inspect.py?line=934'>935</a>\u001b[0m \u001b[39m    The argument may be a module, class, method, function, traceback, frame,\u001b[39;00m\n\u001b[1;32m    <a href='file:///home/robson/anaconda3/envs/redes_complexas/lib/python3.10/inspect.py?line=935'>936</a>\u001b[0m \u001b[39m    or code object.  The source code is returned as a list of all the lines\u001b[39;00m\n\u001b[1;32m    <a href='file:///home/robson/anaconda3/envs/redes_complexas/lib/python3.10/inspect.py?line=936'>937</a>\u001b[0m \u001b[39m    in the file and the line number indexes a line in that list.  An OSError\u001b[39;00m\n\u001b[1;32m    <a href='file:///home/robson/anaconda3/envs/redes_complexas/lib/python3.10/inspect.py?line=937'>938</a>\u001b[0m \u001b[39m    is raised if the source code cannot be retrieved.\"\"\"\u001b[39;00m\n\u001b[0;32m--> <a href='file:///home/robson/anaconda3/envs/redes_complexas/lib/python3.10/inspect.py?line=939'>940</a>\u001b[0m     file \u001b[39m=\u001b[39m getsourcefile(\u001b[39mobject\u001b[39;49m)\n\u001b[1;32m    <a href='file:///home/robson/anaconda3/envs/redes_complexas/lib/python3.10/inspect.py?line=940'>941</a>\u001b[0m     \u001b[39mif\u001b[39;00m file:\n\u001b[1;32m    <a href='file:///home/robson/anaconda3/envs/redes_complexas/lib/python3.10/inspect.py?line=941'>942</a>\u001b[0m         \u001b[39m# Invalidate cache if needed.\u001b[39;00m\n\u001b[1;32m    <a href='file:///home/robson/anaconda3/envs/redes_complexas/lib/python3.10/inspect.py?line=942'>943</a>\u001b[0m         linecache\u001b[39m.\u001b[39mcheckcache(file)\n",
      "File \u001b[0;32m~/anaconda3/envs/redes_complexas/lib/python3.10/inspect.py:817\u001b[0m, in \u001b[0;36mgetsourcefile\u001b[0;34m(object)\u001b[0m\n\u001b[1;32m    <a href='file:///home/robson/anaconda3/envs/redes_complexas/lib/python3.10/inspect.py?line=812'>813</a>\u001b[0m \u001b[39mdef\u001b[39;00m \u001b[39mgetsourcefile\u001b[39m(\u001b[39mobject\u001b[39m):\n\u001b[1;32m    <a href='file:///home/robson/anaconda3/envs/redes_complexas/lib/python3.10/inspect.py?line=813'>814</a>\u001b[0m     \u001b[39m\"\"\"Return the filename that can be used to locate an object's source.\u001b[39;00m\n\u001b[1;32m    <a href='file:///home/robson/anaconda3/envs/redes_complexas/lib/python3.10/inspect.py?line=814'>815</a>\u001b[0m \u001b[39m    Return None if no way can be identified to get the source.\u001b[39;00m\n\u001b[1;32m    <a href='file:///home/robson/anaconda3/envs/redes_complexas/lib/python3.10/inspect.py?line=815'>816</a>\u001b[0m \u001b[39m    \"\"\"\u001b[39;00m\n\u001b[0;32m--> <a href='file:///home/robson/anaconda3/envs/redes_complexas/lib/python3.10/inspect.py?line=816'>817</a>\u001b[0m     filename \u001b[39m=\u001b[39m getfile(\u001b[39mobject\u001b[39;49m)\n\u001b[1;32m    <a href='file:///home/robson/anaconda3/envs/redes_complexas/lib/python3.10/inspect.py?line=817'>818</a>\u001b[0m     all_bytecode_suffixes \u001b[39m=\u001b[39m importlib\u001b[39m.\u001b[39mmachinery\u001b[39m.\u001b[39mDEBUG_BYTECODE_SUFFIXES[:]\n\u001b[1;32m    <a href='file:///home/robson/anaconda3/envs/redes_complexas/lib/python3.10/inspect.py?line=818'>819</a>\u001b[0m     all_bytecode_suffixes \u001b[39m+\u001b[39m\u001b[39m=\u001b[39m importlib\u001b[39m.\u001b[39mmachinery\u001b[39m.\u001b[39mOPTIMIZED_BYTECODE_SUFFIXES[:]\n",
      "File \u001b[0;32m~/anaconda3/envs/redes_complexas/lib/python3.10/inspect.py:778\u001b[0m, in \u001b[0;36mgetfile\u001b[0;34m(object)\u001b[0m\n\u001b[1;32m    <a href='file:///home/robson/anaconda3/envs/redes_complexas/lib/python3.10/inspect.py?line=775'>776</a>\u001b[0m     \u001b[39mif\u001b[39;00m \u001b[39mgetattr\u001b[39m(\u001b[39mobject\u001b[39m, \u001b[39m'\u001b[39m\u001b[39m__file__\u001b[39m\u001b[39m'\u001b[39m, \u001b[39mNone\u001b[39;00m):\n\u001b[1;32m    <a href='file:///home/robson/anaconda3/envs/redes_complexas/lib/python3.10/inspect.py?line=776'>777</a>\u001b[0m         \u001b[39mreturn\u001b[39;00m \u001b[39mobject\u001b[39m\u001b[39m.\u001b[39m\u001b[39m__file__\u001b[39m\n\u001b[0;32m--> <a href='file:///home/robson/anaconda3/envs/redes_complexas/lib/python3.10/inspect.py?line=777'>778</a>\u001b[0m     \u001b[39mraise\u001b[39;00m \u001b[39mTypeError\u001b[39;00m(\u001b[39m'\u001b[39m\u001b[39m{!r}\u001b[39;00m\u001b[39m is a built-in module\u001b[39m\u001b[39m'\u001b[39m\u001b[39m.\u001b[39mformat(\u001b[39mobject\u001b[39m))\n\u001b[1;32m    <a href='file:///home/robson/anaconda3/envs/redes_complexas/lib/python3.10/inspect.py?line=778'>779</a>\u001b[0m \u001b[39mif\u001b[39;00m isclass(\u001b[39mobject\u001b[39m):\n\u001b[1;32m    <a href='file:///home/robson/anaconda3/envs/redes_complexas/lib/python3.10/inspect.py?line=779'>780</a>\u001b[0m     \u001b[39mif\u001b[39;00m \u001b[39mhasattr\u001b[39m(\u001b[39mobject\u001b[39m, \u001b[39m'\u001b[39m\u001b[39m__module__\u001b[39m\u001b[39m'\u001b[39m):\n",
      "\u001b[0;31mTypeError\u001b[0m: <module '__main__'> is a built-in module"
     ]
    }
   ],
   "source": []
  },
  {
   "cell_type": "code",
   "execution_count": 5,
   "metadata": {},
   "outputs": [
    {
     "data": {
      "text/plain": [
       "dict_values(['BEGIN', 'END', 'INTEIRO', 'DECIMAL', 'WRITE', 'READ'])"
      ]
     },
     "execution_count": 5,
     "metadata": {},
     "output_type": "execute_result"
    }
   ],
   "source": [
    "reserved = {\n",
    "    'begin': 'BEGIN',\n",
    "    'end': 'END',\n",
    "    'int': 'INTEIRO',\n",
    "    'float': 'DECIMAL',\n",
    "    'write': 'WRITE',\n",
    "    'read': 'READ'\n",
    "}\n",
    "\n",
    "reserved.values()"
   ]
  },
  {
   "cell_type": "code",
   "execution_count": null,
   "metadata": {},
   "outputs": [],
   "source": []
  },
  {
   "cell_type": "code",
   "execution_count": null,
   "metadata": {},
   "outputs": [],
   "source": []
  },
  {
   "cell_type": "code",
   "execution_count": null,
   "metadata": {},
   "outputs": [],
   "source": []
  },
  {
   "cell_type": "code",
   "execution_count": null,
   "metadata": {},
   "outputs": [],
   "source": []
  },
  {
   "cell_type": "code",
   "execution_count": null,
   "metadata": {},
   "outputs": [],
   "source": []
  },
  {
   "cell_type": "code",
   "execution_count": null,
   "metadata": {},
   "outputs": [],
   "source": []
  },
  {
   "cell_type": "code",
   "execution_count": null,
   "metadata": {},
   "outputs": [],
   "source": []
  },
  {
   "cell_type": "code",
   "execution_count": 3,
   "metadata": {},
   "outputs": [
    {
     "name": "stdout",
     "output_type": "stream",
     "text": [
      "([A-Za-z]\\w*)=((\\d+\\.\\d+)|(\\d+)|([A-Za-z]\\w*))\n"
     ]
    }
   ],
   "source": [
    "import re\n",
    "from ply import lex\n",
    "\n",
    "tokens = ('LOOP','ASSIGNMENT')\n",
    "literals = '=,'\n",
    "\n",
    "re_float = r'(\\d+\\.\\d+)'\n",
    "re_int = r'(\\d+)'\n",
    "re_ident = r'([A-Za-z]\\w*)'\n",
    "re_expr = '(%s)' % '|'.join([re_float, re_int, re_ident])\n",
    "\n",
    "re_loop = 'DO%s%s=%s,%s' % (re_int, re_ident, re_expr, re_expr)\n",
    "@lex.TOKEN(re_loop)\n",
    "def t_LOOP(t):\n",
    "    return t\n",
    "\n",
    "re_assignment = '%s=%s' % (re_ident, re_expr)\n",
    "@lex.TOKEN(re_assignment)\n",
    "def t_ASSIGNMENT(t):\n",
    "    return t\n",
    "\n",
    "def t_newline(t):\n",
    "    r'\\n+'\n",
    "    t.lineno += len(t.value)    # count newlines\n",
    "\n",
    "def t_error(t):\n",
    "    print(\"syntax error at %s, line# %d\" % (t.value, t.lineno))\n",
    "\n",
    "DATA = \"\"\"-- Spaces are ignored in FORTRAN\n",
    "DO 5 I=1,10   -- Loop\n",
    "DO 5 I=1.10   -- Assignment (DO5I = 1.10)\"\"\"\n",
    "\n",
    "def preprocess(data):\n",
    "    re_spaces=re.compile('\\s*')\n",
    "    re_comment=re.compile('--.*$')\n",
    "    lines = []\n",
    "    for line in data.split('\\n'):       # split into lines\n",
    "        line = re_spaces.sub('', line)\n",
    "        line = re_comment.sub('', line)\n",
    "        if not line: continue           # skip blank lines\n",
    "        line = line.upper()\n",
    "        lines.append(line)\n",
    "    return '\\n'.join(lines)+'\\n'\n",
    "\n",
    "print(re_assignment)\n"
   ]
  },
  {
   "cell_type": "code",
   "execution_count": null,
   "metadata": {},
   "outputs": [],
   "source": [
    "lexer = lex.lex()\n",
    "lexer.input(preprocess(DATA))\n",
    "while True:\n",
    "    tok = lexer.token()\n",
    "    if not tok: break\n",
    "    print(tok)"
   ]
  },
  {
   "cell_type": "code",
   "execution_count": 2,
   "metadata": {},
   "outputs": [],
   "source": [
    "import re\n",
    "from ply import lex\n"
   ]
  },
  {
   "cell_type": "code",
   "execution_count": 3,
   "metadata": {},
   "outputs": [
    {
     "name": "stdout",
     "output_type": "stream",
     "text": [
      "========================== stuff ===========================\n",
      "('identifier', 'property')\n",
      "('dot', '.')\n",
      "('open_variable', '${')\n",
      "('identifier', 'general')\n",
      "('dot', '.')\n",
      "('identifier', 'name')\n",
      "('close_curly', '}')\n",
      "('dot', '.')\n",
      "('identifier', 'ip')\n",
      "('whitespace', ' ')\n",
      "('equals', '=')\n",
      "('whitespace', ' ')\n",
      "('open_variable', '${')\n",
      "('identifier', 'general')\n",
      "('dot', '.')\n",
      "('identifier', 'ip')\n",
      "('close_curly', '}')\n",
      "========================== stuff2 ==========================\n",
      "('newline', '\\n')\n",
      "('identifier', 'general')\n",
      "('whitespace', ' ')\n",
      "('open_curly', '{')\n",
      "('newline', '\\n')\n",
      "('whitespace', '  ')\n",
      "('identifier', 'name')\n",
      "('whitespace', ' ')\n",
      "('equals', '=')\n",
      "('whitespace', ' ')\n",
      "('identifier', 'myname')\n",
      "('newline', '\\n')\n",
      "('whitespace', '  ')\n",
      "('identifier', 'ip')\n",
      "('whitespace', ' ')\n",
      "('equals', '=')\n",
      "('whitespace', ' ')\n",
      "('integer', '127')\n",
      "('dot', '.')\n",
      "('integer', '0')\n",
      "('dot', '.')\n",
      "('integer', '0')\n",
      "('dot', '.')\n",
      "('integer', '1')\n",
      "('newline', '\\n')\n",
      "('close_curly', '}')\n",
      "('newline', '\\n')\n"
     ]
    }
   ],
   "source": [
    "stuff = r'property.${general.name}.ip = ${general.ip}'\n",
    "stuff2 = r'''\n",
    "general {\n",
    "  name = myname\n",
    "  ip = 127.0.0.1\n",
    "}\n",
    "'''\n",
    "\n",
    "print(' stuff '.center(60, '='))\n",
    "for tok in tokenize(stuff):\n",
    "    print(tok)\n",
    "\n",
    "print(' stuff2 '.center(60, '='))\n",
    "for tok in tokenize(stuff2):\n",
    "    print(tok)"
   ]
  }
 ],
 "metadata": {
  "interpreter": {
   "hash": "39552965ca059a320e4c5f1e9c364a5735a06a2fd1ec87da73da863cc8aa7d0b"
  },
  "kernelspec": {
   "display_name": "Python 3.10.4 ('redes_complexas')",
   "language": "python",
   "name": "python3"
  },
  "language_info": {
   "codemirror_mode": {
    "name": "ipython",
    "version": 3
   },
   "file_extension": ".py",
   "mimetype": "text/x-python",
   "name": "python",
   "nbconvert_exporter": "python",
   "pygments_lexer": "ipython3",
   "version": "3.10.4"
  },
  "orig_nbformat": 4
 },
 "nbformat": 4,
 "nbformat_minor": 2
}
